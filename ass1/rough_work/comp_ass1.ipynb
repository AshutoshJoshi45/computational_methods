{
 "cells": [
  {
   "cell_type": "code",
   "execution_count": 1,
   "id": "5be684a6",
   "metadata": {},
   "outputs": [],
   "source": [
    "import numpy as np"
   ]
  },
  {
   "cell_type": "code",
   "execution_count": 2,
   "id": "4afa9113",
   "metadata": {},
   "outputs": [],
   "source": [
    "def relaxation_method(x0,A,b,m):\n",
    "    n=np.size(b)\n",
    "    omega=1.1\n",
    "    for k in range(m):\n",
    "        print(\"\\n\\n\")\n",
    "        print(\"k=\",k+1)\n",
    "        for i in range(n):\n",
    "            print(\"i=\",i+1)\n",
    "            print(\"\\n\")\n",
    "            rk=b-A@x0\n",
    "            print(\"A@x0=\",A@x0)\n",
    "            print(\"rk=\",rk)\n",
    "            x0[i]=x0[i]+omega*rk[i]/A[i,i]\n",
    "            print(\"X=\",x0)\n",
    "            print(\"\\n\")\n",
    "    return x0"
   ]
  },
  {
   "cell_type": "code",
   "execution_count": 3,
   "id": "c8d34fe4",
   "metadata": {},
   "outputs": [
    {
     "name": "stdout",
     "output_type": "stream",
     "text": [
      "\n",
      "\n",
      "\n",
      "k= 1\n",
      "i= 1\n",
      "\n",
      "\n",
      "A@x0= [0. 0. 0. 0. 0.]\n",
      "rk= [6. 6. 6. 6. 6.]\n",
      "X= [1.65 0.   0.   0.   0.  ]\n",
      "\n",
      "\n",
      "i= 2\n",
      "\n",
      "\n",
      "A@x0= [ 6.6  -1.65  3.3  -1.65  0.  ]\n",
      "rk= [-0.6   7.65  2.7   7.65  6.  ]\n",
      "X= [ 1.65  -2.805  0.     0.     0.   ]\n",
      "\n",
      "\n",
      "i= 3\n",
      "\n",
      "\n",
      "A@x0= [ 3.795  6.765  0.495  1.155 -5.61 ]\n",
      "rk= [ 2.205 -0.765  5.505  4.845 11.61 ]\n",
      "X= [ 1.65   -2.805   1.2111  0.      0.    ]\n",
      "\n",
      "\n",
      "i= 4\n",
      "\n",
      "\n",
      "A@x0= [ 5.0061  7.9761  6.5505 -0.0561 -6.8211]\n",
      "rk= [ 0.9939 -1.9761 -0.5505  6.0561 12.8211]\n",
      "X= [ 1.65      -2.805      1.2111     1.6654275  0.       ]\n",
      "\n",
      "\n",
      "i= 5\n",
      "\n",
      "\n",
      "A@x0= [ 5.0061     9.6415275  4.8850725  6.60561   -5.1556725]\n",
      "rk= [ 0.9939    -3.6415275  1.1149275 -0.60561   11.1556725]\n",
      "X= [ 1.65       -2.805       1.2111      1.6654275   3.06780994]\n",
      "\n",
      "\n",
      "\n",
      "\n",
      "\n",
      "k= 2\n",
      "i= 1\n",
      "\n",
      "\n",
      "A@x0= [8.07390994 9.6415275  1.81726256 6.60561    7.11556725]\n",
      "rk= [-2.07390994 -3.6415275   4.18273744 -0.60561    -1.11556725]\n",
      "X= [ 1.07967477 -2.805       1.2111      1.6654275   3.06780994]\n",
      "\n",
      "\n",
      "i= 2\n",
      "\n",
      "\n",
      "A@x0= [ 5.79260901 10.21185273  0.6766121   7.17593523  7.11556725]\n",
      "rk= [ 0.20739099 -4.21185273  5.3233879  -1.17593523 -1.11556725]\n",
      "X= [ 1.07967477 -1.260654    1.2111      1.6654275   3.06780994]\n",
      "\n",
      "\n",
      "i= 3\n",
      "\n",
      "\n",
      "A@x0= [ 7.33695501  5.57881473  2.2209581   5.63158923 10.20425925]\n",
      "rk= [-1.33695501  0.42118527  3.7790419   0.36841077 -4.20425925]\n",
      "X= [ 1.07967477 -1.260654    2.04248922  1.6654275   3.06780994]\n",
      "\n",
      "\n",
      "i= 4\n",
      "\n",
      "\n",
      "A@x0= [8.16834423 6.41020394 6.37790419 4.80020001 9.37287004]\n",
      "rk= [-2.16834423 -0.41020394 -0.37790419  1.19979999 -3.37287004]\n",
      "X= [ 1.07967477 -1.260654    2.04248922  1.9953725   3.06780994]\n",
      "\n",
      "\n",
      "i= 5\n",
      "\n",
      "\n",
      "A@x0= [8.16834423 6.74014894 6.04795919 6.11998    9.70281503]\n",
      "rk= [-2.16834423 -0.74014894 -0.04795919 -0.11998    -3.70281503]\n",
      "X= [ 1.07967477 -1.260654    2.04248922  1.9953725   2.0495358 ]\n",
      "\n",
      "\n"
     ]
    },
    {
     "data": {
      "text/plain": [
       "array([ 1.07967477, -1.260654  ,  2.04248922,  1.9953725 ,  2.0495358 ])"
      ]
     },
     "execution_count": 3,
     "metadata": {},
     "output_type": "execute_result"
    }
   ],
   "source": [
    "A=np.array([[4,1,1,0,1],[-1,-3,1,1,0],[2,1,5,-1,-1],[-1,-1,-1,4,0],[0,2,-1,1,4]],dtype=np.float64)\n",
    "b=np.array([6,6,6,6,6],dtype=np.float64)\n",
    "x0=np.array([0,0,0,0,0],dtype=np.float64)\n",
    "relaxation_method(x0,A,b,2)"
   ]
  },
  {
   "cell_type": "code",
   "execution_count": 50,
   "id": "ff7947cd",
   "metadata": {},
   "outputs": [
    {
     "data": {
      "text/plain": [
       "array([-0.79764706,  2.79529412, -0.25882353, -2.25176471])"
      ]
     },
     "execution_count": 50,
     "metadata": {},
     "output_type": "execute_result"
    }
   ],
   "source": [
    "np.linalg.inv(A)@b"
   ]
  },
  {
   "cell_type": "code",
   "execution_count": 4,
   "id": "95efd7ca",
   "metadata": {},
   "outputs": [],
   "source": [
    "def Gauss_Seidel(x0,A,b,m):\n",
    "    n=np.size(b)\n",
    "    for k in range(m):\n",
    "        for i in range(n):\n",
    "            s=0\n",
    "            for j in range(n):\n",
    "                if j!=i:\n",
    "                    s=s-A[i,j]*x0[j]    \n",
    "            x0[i]=1/A[i,i]*(s+b[i])\n",
    "        print(\"k=\",k+1)\n",
    "        print(\"x0=\",x0)\n",
    "    return x0"
   ]
  },
  {
   "cell_type": "code",
   "execution_count": 21,
   "id": "3dd2a391",
   "metadata": {},
   "outputs": [],
   "source": [
    "def Jacobi(x0,A,b,m):\n",
    "    m=m+1\n",
    "    n=np.size(b)\n",
    "    x_matrix=np.zeros((m,n))\n",
    "    x_matrix[0,:]=x0\n",
    "   # print(x0)\n",
    "    for k in np.arange(1,m):\n",
    "        for i in range(n):\n",
    "            s=0.0\n",
    "            for j in range(n):\n",
    "                if j!=i:\n",
    "                    s=s-A[i,j]*x_matrix[k-1,j]\n",
    "            x_matrix[k,i]=1/A[i,i]*(s+b[i])\n",
    "    print(x_matrix)\n",
    "    return"
   ]
  },
  {
   "cell_type": "code",
   "execution_count": 31,
   "id": "96c7ea76",
   "metadata": {},
   "outputs": [
    {
     "name": "stdout",
     "output_type": "stream",
     "text": [
      "k= 1\n",
      "x0= [ 1.5     -2.5      1.1      1.525    2.64375]\n",
      "k= 2\n",
      "x0= [ 1.1890625  -1.52135417  1.86239583  1.88252604  2.25564453]\n"
     ]
    },
    {
     "data": {
      "text/plain": [
       "array([ 1.1890625 , -1.52135417,  1.86239583,  1.88252604,  2.25564453])"
      ]
     },
     "execution_count": 31,
     "metadata": {},
     "output_type": "execute_result"
    }
   ],
   "source": [
    "A=np.array([[4,1,1,0,1],[-1,-3,1,1,0],[2,1,5,-1,-1],[-1,-1,-1,4,0],[0,2,-1,1,4]],dtype=np.float64)\n",
    "b=np.array([6,6,6,6,6],dtype=np.float64)\n",
    "x0=np.array([0,0,0,0,0],dtype=np.float64)\n",
    "Gauss_Seidel(x0,A,b,2)"
   ]
  },
  {
   "cell_type": "code",
   "execution_count": 29,
   "id": "2be40850",
   "metadata": {},
   "outputs": [
    {
     "data": {
      "text/plain": [
       "array([-0.79764706,  2.79529412, -0.25882353, -2.25176471])"
      ]
     },
     "execution_count": 29,
     "metadata": {},
     "output_type": "execute_result"
    }
   ],
   "source": [
    "np.linalg.inv(A)@b"
   ]
  },
  {
   "cell_type": "code",
   "execution_count": 45,
   "id": "7a983f61",
   "metadata": {},
   "outputs": [
    {
     "name": "stdout",
     "output_type": "stream",
     "text": [
      "[[ 0.          0.          0.        ]\n",
      " [ 0.33333333  0.          0.57142857]\n",
      " [ 0.14285714 -0.35714286  0.42857143]\n",
      " [ 0.07142857 -0.21428571  0.66326531]\n",
      " [ 0.04081633 -0.25680272  0.63265306]\n",
      " [ 0.03684807 -0.23129252  0.66399417]\n",
      " [ 0.03490444 -0.23975543  0.6547619 ]\n",
      " [ 0.03516089 -0.23570619  0.65922185]\n",
      " [ 0.03502399 -0.23732106  0.65737656]\n",
      " [ 0.03510079 -0.23663751  0.65812732]]\n"
     ]
    }
   ],
   "source": [
    "A=np.array([[3,-1,1],[3,6,2],[3,3,7]],dtype=np.float64)\n",
    "b=np.array([1,0,4],dtype=np.float64)\n",
    "x0=np.array([0,0,0],dtype=np.float64)\n",
    "Jacobi(x0,A,b,9)"
   ]
  },
  {
   "cell_type": "code",
   "execution_count": 18,
   "id": "c9aab8b9",
   "metadata": {},
   "outputs": [
    {
     "data": {
      "text/plain": [
       "array([ 0.11111111, -0.22222222,  0.61904762])"
      ]
     },
     "execution_count": 18,
     "metadata": {},
     "output_type": "execute_result"
    }
   ],
   "source": [
    "x0"
   ]
  },
  {
   "cell_type": "code",
   "execution_count": 46,
   "id": "ebbb757f",
   "metadata": {},
   "outputs": [],
   "source": [
    "def Jacobi2(x0,A,b):\n",
    "    n=np.size(b)\n",
    "    x1=[]\n",
    "    temp1=10\n",
    "    temp0=max(x0)\n",
    "    count=0\n",
    "    while (abs(temp0-temp1)/abs(temp1)>0.001):\n",
    "        print(\"Count=\",count)\n",
    "        for i in range(n):\n",
    "            s=0\n",
    "            for j in range(n):\n",
    "                if i!=j:\n",
    "                    s=s-A[i,j]*x0[j]\n",
    "            x1.append((s+b[i])/A[i,i])\n",
    "        #x1_mat=np.array(x1)\n",
    "        temp0=max(x0)\n",
    "        temp1=max(x1)\n",
    "        print(\"x0=\",x0)\n",
    "        print(\"x1=\",x1)\n",
    "        print(\"Relative Error=\",abs(temp0-temp1)/abs(temp1))\n",
    "        x0=x1\n",
    "        x1=[]\n",
    "        count=count+1\n",
    "    return"
   ]
  },
  {
   "cell_type": "code",
   "execution_count": 47,
   "id": "853044f2",
   "metadata": {},
   "outputs": [
    {
     "name": "stdout",
     "output_type": "stream",
     "text": [
      "Count= 0\n",
      "x0= [0. 0. 0.]\n",
      "x1= [0.3333333333333333, 0.0, 0.5714285714285714]\n",
      "Relative Error= 1.0\n",
      "Count= 1\n",
      "x0= [0.3333333333333333, 0.0, 0.5714285714285714]\n",
      "x1= [0.14285714285714288, -0.35714285714285715, 0.42857142857142855]\n",
      "Relative Error= 0.3333333333333333\n",
      "Count= 2\n",
      "x0= [0.14285714285714288, -0.35714285714285715, 0.42857142857142855]\n",
      "x1= [0.07142857142857144, -0.21428571428571427, 0.6632653061224489]\n",
      "Relative Error= 0.35384615384615387\n",
      "Count= 3\n",
      "x0= [0.07142857142857144, -0.21428571428571427, 0.6632653061224489]\n",
      "x1= [0.040816326530612256, -0.2568027210884354, 0.6326530612244898]\n",
      "Relative Error= 0.04838709677419342\n",
      "Count= 4\n",
      "x0= [0.040816326530612256, -0.2568027210884354, 0.6326530612244898]\n",
      "x1= [0.03684807256235826, -0.23129251700680276, 0.6639941690962099]\n",
      "Relative Error= 0.04720087815587259\n",
      "Count= 5\n",
      "x0= [0.03684807256235826, -0.23129251700680276, 0.6639941690962099]\n",
      "x1= [0.03490443796566245, -0.23975542597991575, 0.6547619047619049]\n",
      "Relative Error= 0.014100185528756753\n",
      "Count= 6\n",
      "x0= [0.03490443796566245, -0.23975542597991575, 0.6547619047619049]\n",
      "x1= [0.035160889752726465, -0.2357061872367995, 0.6592218520061086]\n",
      "Relative Error= 0.006765472398451993\n",
      "Count= 7\n",
      "x0= [0.035160889752726465, -0.2357061872367995, 0.6592218520061086]\n",
      "x1= [0.035023986919030636, -0.23732106221173277, 0.6573765560646027]\n",
      "Relative Error= 0.00280706076978597\n",
      "Count= 8\n",
      "x0= [0.035023986919030636, -0.23732106221173277, 0.6573765560646027]\n",
      "x1= [0.03510079390788819, -0.23663751214771622, 0.6581273179825866]\n",
      "Relative Error= 0.0011407548318847019\n",
      "Count= 9\n",
      "x0= [0.03510079390788819, -0.23663751214771622, 0.6581273179825866]\n",
      "x1= [0.035078389956565724, -0.2369261696148063, 0.657801450674212]\n",
      "Relative Error= 0.0004953885523368585\n"
     ]
    }
   ],
   "source": [
    "A=np.array([[3,-1,1],[3,6,2],[3,3,7]],dtype=np.float64)\n",
    "b=np.array([1,0,4],dtype=np.float64)\n",
    "x0=np.array([0,0,0],dtype=np.float64)\n",
    "Jacobi2(x0,A,b)"
   ]
  },
  {
   "cell_type": "code",
   "execution_count": 41,
   "id": "e571d523",
   "metadata": {},
   "outputs": [
    {
     "data": {
      "text/plain": [
       "array([ 0.03508772, -0.23684211,  0.65789474])"
      ]
     },
     "execution_count": 41,
     "metadata": {},
     "output_type": "execute_result"
    }
   ],
   "source": [
    "np.linalg.inv(A)@b"
   ]
  },
  {
   "cell_type": "code",
   "execution_count": 62,
   "id": "1f0b0403",
   "metadata": {},
   "outputs": [],
   "source": [
    "def Gauss_Seidel2(x0,A,b):\n",
    "    n=np.size(b)\n",
    "    temp0=max(x0)\n",
    "    temp1=10\n",
    "    count=1\n",
    "    x_prev=np.zeros_like(x0)\n",
    "    while (abs(temp0-temp1)/abs(temp1)>0.001):\n",
    "        print(\"Count=\",count)\n",
    "        for i in range(np.size(x0)):\n",
    "            x_prev[i]=x0[i]\n",
    "        #print(x_prev)\n",
    "        for i in range(n):\n",
    "            s=0\n",
    "            for j in range(n):\n",
    "                if j!=i:\n",
    "                    s=s-A[i,j]*x0[j]    \n",
    "            x0[i]=1/A[i,i]*(s+b[i])\n",
    "        temp0=max(x_prev)\n",
    "        temp1=max(x0)\n",
    "        print(\"x0=\",x_prev)\n",
    "        print(\"x1=\",x0)\n",
    "        print(\"Relative Error=\",abs(temp0-temp1)/abs(temp1))\n",
    "        count=count+1\n",
    "    return x0"
   ]
  },
  {
   "cell_type": "code",
   "execution_count": 63,
   "id": "10b60f2d",
   "metadata": {},
   "outputs": [
    {
     "name": "stdout",
     "output_type": "stream",
     "text": [
      "Count= 1\n",
      "x0= [0. 0. 0.]\n",
      "x1= [ 0.33333333 -0.16666667  0.5       ]\n",
      "Relative Error= 1.0\n",
      "Count= 2\n",
      "x0= [ 0.33333333 -0.16666667  0.5       ]\n",
      "x1= [ 0.11111111 -0.22222222  0.61904762]\n",
      "Relative Error= 0.19230769230769218\n",
      "Count= 3\n",
      "x0= [ 0.11111111 -0.22222222  0.61904762]\n",
      "x1= [ 0.05291005 -0.23280423  0.64852608]\n",
      "Relative Error= 0.04545454545454557\n",
      "Count= 4\n",
      "x0= [ 0.05291005 -0.23280423  0.64852608]\n",
      "x1= [ 0.03955656 -0.23595364  0.65559875]\n",
      "Relative Error= 0.010788108375195537\n",
      "Count= 5\n",
      "x0= [ 0.03955656 -0.23595364  0.65559875]\n",
      "x1= [ 0.0361492  -0.23660752  0.65733928]\n",
      "Relative Error= 0.0026478410513141697\n",
      "Count= 6\n",
      "x0= [ 0.0361492  -0.23660752  0.65733928]\n",
      "x1= [ 0.03535107 -0.23678863  0.65775895]\n",
      "Relative Error= 0.0006380395137795539\n"
     ]
    },
    {
     "data": {
      "text/plain": [
       "array([ 0.03535107, -0.23678863,  0.65775895])"
      ]
     },
     "execution_count": 63,
     "metadata": {},
     "output_type": "execute_result"
    }
   ],
   "source": [
    "A=np.array([[3,-1,1],[3,6,2],[3,3,7]],dtype=np.float64)\n",
    "b=np.array([1,0,4],dtype=np.float64)\n",
    "x0=np.array([0,0,0],dtype=np.float64)\n",
    "Gauss_Seidel2(x0,A,b)"
   ]
  },
  {
   "cell_type": "code",
   "execution_count": 60,
   "id": "64a28fd3",
   "metadata": {},
   "outputs": [
    {
     "name": "stdout",
     "output_type": "stream",
     "text": [
      "[1 2 3]\n",
      "[1 5 3]\n"
     ]
    }
   ],
   "source": [
    "a=np.array([1,2,3])\n",
    "b=a\n",
    "print(b)\n",
    "a[1]=5\n",
    "print(b)"
   ]
  },
  {
   "cell_type": "code",
   "execution_count": 57,
   "id": "21b5eaac",
   "metadata": {},
   "outputs": [
    {
     "data": {
      "text/plain": [
       "[1, 2, 3]"
      ]
     },
     "execution_count": 57,
     "metadata": {},
     "output_type": "execute_result"
    }
   ],
   "source": [
    "b"
   ]
  },
  {
   "cell_type": "code",
   "execution_count": 58,
   "id": "8fa3744d",
   "metadata": {},
   "outputs": [],
   "source": [
    "a=[2,2,4]"
   ]
  },
  {
   "cell_type": "code",
   "execution_count": 59,
   "id": "7c267340",
   "metadata": {},
   "outputs": [
    {
     "data": {
      "text/plain": [
       "[1, 2, 3]"
      ]
     },
     "execution_count": 59,
     "metadata": {},
     "output_type": "execute_result"
    }
   ],
   "source": [
    "b"
   ]
  },
  {
   "cell_type": "code",
   "execution_count": null,
   "id": "2885d2fd",
   "metadata": {},
   "outputs": [],
   "source": []
  }
 ],
 "metadata": {
  "kernelspec": {
   "display_name": "Python 3 (ipykernel)",
   "language": "python",
   "name": "python3"
  },
  "language_info": {
   "codemirror_mode": {
    "name": "ipython",
    "version": 3
   },
   "file_extension": ".py",
   "mimetype": "text/x-python",
   "name": "python",
   "nbconvert_exporter": "python",
   "pygments_lexer": "ipython3",
   "version": "3.11.4"
  }
 },
 "nbformat": 4,
 "nbformat_minor": 5
}
